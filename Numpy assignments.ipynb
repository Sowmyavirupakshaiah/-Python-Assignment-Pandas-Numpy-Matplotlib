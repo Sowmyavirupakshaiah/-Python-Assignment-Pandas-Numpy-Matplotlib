{
 "cells": [
  {
   "cell_type": "markdown",
   "id": "7197e1c0",
   "metadata": {},
   "source": [
    "# 1) Create a 4X2 integer array and Prints its attributes Attributes like: a) The shape of an array. b) Array dimensions. c) The Length of each element of the array in bytes."
   ]
  },
  {
   "cell_type": "code",
   "execution_count": 1,
   "id": "74e98b01",
   "metadata": {},
   "outputs": [],
   "source": [
    "import numpy"
   ]
  },
  {
   "cell_type": "code",
   "execution_count": 2,
   "id": "1f360356",
   "metadata": {},
   "outputs": [
    {
     "name": "stdout",
     "output_type": "stream",
     "text": [
      "Printing Array\n",
      "[[36887 27614]\n",
      " [36039 55316]\n",
      " [29912 23646]\n",
      " [25615 63143]]\n",
      "Printing numpy array Attributes\n",
      "1> Array Shape is:  (4, 2)\n",
      "2>. Array dimensions are  2\n",
      "3>. Length of each element of array in bytes is  2\n"
     ]
    }
   ],
   "source": [
    "firstArray = numpy.empty([4,2], dtype = numpy.uint16) \n",
    "print(\"Printing Array\")\n",
    "print(firstArray)\n",
    "\n",
    "print(\"Printing numpy array Attributes\")\n",
    "print(\"1> Array Shape is: \", firstArray.shape)\n",
    "print(\"2>. Array dimensions are \", firstArray.ndim)\n",
    "print(\"3>. Length of each element of array in bytes is \", firstArray.itemsize)"
   ]
  },
  {
   "cell_type": "markdown",
   "id": "e5f02a02",
   "metadata": {},
   "source": [
    "# 2)  Create a 5X2 integer array from a range between 100 to 200 such that the difference between each element is 10"
   ]
  },
  {
   "cell_type": "code",
   "execution_count": 3,
   "id": "e243c62f",
   "metadata": {},
   "outputs": [
    {
     "name": "stdout",
     "output_type": "stream",
     "text": [
      "Creating 5X2 array using numpy.arange\n",
      "[[100 110]\n",
      " [120 130]\n",
      " [140 150]\n",
      " [160 170]\n",
      " [180 190]]\n"
     ]
    }
   ],
   "source": [
    "import numpy\n",
    "\n",
    "print(\"Creating 5X2 array using numpy.arange\")\n",
    "sampleArray = numpy.arange(100, 200, 10)\n",
    "sampleArray = sampleArray.reshape(5,2)\n",
    "print (sampleArray)"
   ]
  },
  {
   "cell_type": "markdown",
   "id": "4c80f1a1",
   "metadata": {},
   "source": [
    "# 3) Add the following two NumPy arrays import numpy\n",
    "\n",
    "arrayOne = numpy.array([[5, 6, 9], [21 ,18, 27]]) arrayTwo = numpy.array([[15 ,33, 24], [4 ,7, 1]])"
   ]
  },
  {
   "cell_type": "code",
   "execution_count": 4,
   "id": "f85c5303",
   "metadata": {},
   "outputs": [
    {
     "name": "stdout",
     "output_type": "stream",
     "text": [
      "addition of two arrays is \n",
      "\n",
      "[[20 39 33]\n",
      " [25 25 28]]\n"
     ]
    }
   ],
   "source": [
    "import numpy\n",
    "\n",
    "arrayOne = numpy.array([[5, 6, 9], [21 ,18, 27]])\n",
    "arrayTwo = numpy.array([[15 ,33, 24], [4 ,7, 1]])\n",
    "\n",
    "resultArray  = arrayOne + arrayTwo\n",
    "print(\"addition of two arrays is \\n\")\n",
    "print(resultArray)"
   ]
  },
  {
   "cell_type": "markdown",
   "id": "c4ab1616",
   "metadata": {},
   "source": [
    "# 4) Create an 8X3 integer array from a range between 10 to 34 such that the difference between each element is 1 and then Split the array into four equal-sized sub-arrays. Expected Output: Creating 8X3 array using numpy.arange [[10 11 12] [13 14 15] [16 17 18] [19 20 21] [22 23 24] [25 26 27] [28 29 30] [31 32 33]]\n",
    "\n",
    "Dividing 8X3 array into 4 sub array\n",
    "\n",
    "[array([[10, 11, 12],[13, 14, 15]]), array([[16, 17, 18],[19, 20, 21]]), array([[22, 23, 24],[25, 26, 27]]), array([[28, 29, 30],[31, 32, 33]])]"
   ]
  },
  {
   "cell_type": "code",
   "execution_count": 5,
   "id": "138076e7",
   "metadata": {},
   "outputs": [
    {
     "name": "stdout",
     "output_type": "stream",
     "text": [
      "Creating 8X3 array using numpy.arange\n",
      "[[10 11 12]\n",
      " [13 14 15]\n",
      " [16 17 18]\n",
      " [19 20 21]\n",
      " [22 23 24]\n",
      " [25 26 27]\n",
      " [28 29 30]\n",
      " [31 32 33]]\n",
      "\n",
      "Dividing 8X3 array into 4 sub array\n",
      "\n",
      "[array([[10, 11, 12],\n",
      "       [13, 14, 15]]), array([[16, 17, 18],\n",
      "       [19, 20, 21]]), array([[22, 23, 24],\n",
      "       [25, 26, 27]]), array([[28, 29, 30],\n",
      "       [31, 32, 33]])]\n"
     ]
    }
   ],
   "source": [
    "import numpy\n",
    "\n",
    "print(\"Creating 8X3 array using numpy.arange\")\n",
    "sampleArray = numpy.arange(10, 34, 1)\n",
    "sampleArray = sampleArray.reshape(8,3)\n",
    "print (sampleArray)\n",
    "\n",
    "print(\"\\nDividing 8X3 array into 4 sub array\\n\")\n",
    "subArrays = numpy.split(sampleArray, 4) \n",
    "print(subArrays)"
   ]
  },
  {
   "cell_type": "markdown",
   "id": "5474d99c",
   "metadata": {},
   "source": [
    "# 5) Write a NumPy program to generate six random integers between 10 and 30. \n",
    "Expected Output:\n",
    "[20 28 27 17 28 29]\n"
   ]
  },
  {
   "cell_type": "code",
   "execution_count": 6,
   "id": "e87842fc",
   "metadata": {},
   "outputs": [
    {
     "name": "stdout",
     "output_type": "stream",
     "text": [
      "[16 15 23 29 25 23]\n"
     ]
    }
   ],
   "source": [
    "import numpy as np\n",
    "a = np.random.randint(low=10, high=30, size=6)\n",
    "print(a)"
   ]
  },
  {
   "cell_type": "markdown",
   "id": "38c6428c",
   "metadata": {},
   "source": [
    "# 6) Write a NumPy program to generate five random numbers from the normal distribution. Expected Output: [-0.43262625 -1.10836787 1.80791413 0.69287463 -0.53742101]"
   ]
  },
  {
   "cell_type": "code",
   "execution_count": 8,
   "id": "f633166b",
   "metadata": {},
   "outputs": [
    {
     "name": "stdout",
     "output_type": "stream",
     "text": [
      "[-0.80976728 -1.04908966  1.52767249  1.73141854 -0.73176291]\n"
     ]
    }
   ],
   "source": [
    "import numpy as np\n",
    "b = np.random.normal(size=5)\n",
    "print(b)"
   ]
  },
  {
   "cell_type": "markdown",
   "id": "15ce6517",
   "metadata": {},
   "source": [
    "# 7) Write a NumPy program to create a 3x3x3 array with random values."
   ]
  },
  {
   "cell_type": "code",
   "execution_count": 9,
   "id": "42e228f3",
   "metadata": {},
   "outputs": [
    {
     "name": "stdout",
     "output_type": "stream",
     "text": [
      "[[[0.66229147 0.517888   0.83716288]\n",
      "  [0.43823503 0.64184822 0.13786912]\n",
      "  [0.6831581  0.65551901 0.0828665 ]]\n",
      "\n",
      " [[0.07725439 0.77181578 0.58096607]\n",
      "  [0.75145154 0.81758833 0.18284788]\n",
      "  [0.12277694 0.2063462  0.62442645]]\n",
      "\n",
      " [[0.9520522  0.82578813 0.37361802]\n",
      "  [0.44415853 0.62382735 0.63497914]\n",
      "  [0.32032552 0.50885417 0.14222225]]]\n"
     ]
    }
   ],
   "source": [
    "import numpy as np\n",
    "x = np.random.random((3,3,3))\n",
    "print(x)"
   ]
  },
  {
   "cell_type": "markdown",
   "id": "f7c2b378",
   "metadata": {},
   "source": [
    "# 8) Write a NumPy program to normalize a 3x3 random matrix."
   ]
  },
  {
   "cell_type": "code",
   "execution_count": 10,
   "id": "39b2c184",
   "metadata": {},
   "outputs": [
    {
     "name": "stdout",
     "output_type": "stream",
     "text": [
      "Original Array:\n",
      "[[0.26008764 0.51994033 0.03344339]\n",
      " [0.74146406 0.05411541 0.57326899]\n",
      " [0.51291129 0.67577377 0.33652798]]\n",
      "After normalization:\n",
      "[[0.32010965 0.68712251 0.        ]\n",
      " [1.         0.02919692 0.76244327]\n",
      " [0.67719477 0.90721982 0.42807308]]\n"
     ]
    }
   ],
   "source": [
    "import numpy as np\n",
    "x= np.random.random((3,3))\n",
    "print(\"Original Array:\")\n",
    "print(x)\n",
    "xmax, xmin = x.max(), x.min()\n",
    "x = (x - xmin)/(xmax - xmin)\n",
    "print(\"After normalization:\")\n",
    "print(x)"
   ]
  },
  {
   "cell_type": "markdown",
   "id": "043d3add",
   "metadata": {},
   "source": [
    "# 9) Write a NumPy program to shuffle numbers between 0 and 10 (inclusive)."
   ]
  },
  {
   "cell_type": "code",
   "execution_count": 11,
   "id": "1896e06c",
   "metadata": {},
   "outputs": [
    {
     "name": "stdout",
     "output_type": "stream",
     "text": [
      "[2 9 0 8 1 7 6 5 3 4]\n",
      "Same result using permutation():\n",
      "[5 4 6 3 1 8 0 9 7 2]\n"
     ]
    }
   ],
   "source": [
    "import numpy as np\n",
    "x = np.arange(10)\n",
    "np.random.shuffle(x)\n",
    "print(x)\n",
    "print(\"Same result using permutation():\")\n",
    "print(np.random.permutation(10))"
   ]
  },
  {
   "cell_type": "markdown",
   "id": "6555f9e0",
   "metadata": {},
   "source": [
    "# 10) Write a NumPy program to create a 5x5 array with random values and find the minimum and maximum values"
   ]
  },
  {
   "cell_type": "code",
   "execution_count": 12,
   "id": "9ffa36ac",
   "metadata": {},
   "outputs": [
    {
     "name": "stdout",
     "output_type": "stream",
     "text": [
      "Original Array:\n",
      "[[0.10918321 0.33442558 0.8739067  0.53965127 0.86052153]\n",
      " [0.52501156 0.01555026 0.50925839 0.09406969 0.97434145]\n",
      " [0.19492055 0.57257297 0.73726182 0.98656428 0.51929817]\n",
      " [0.69082862 0.15061504 0.11233091 0.6942625  0.71285474]\n",
      " [0.1598169  0.20933851 0.81955428 0.4526172  0.17884658]]\n",
      "Minimum and Maximum Values:\n",
      "0.015550264962885918 0.9865642822741096\n"
     ]
    }
   ],
   "source": [
    "import numpy as np\n",
    "x = np.random.random((5,5))\n",
    "print(\"Original Array:\")\n",
    "print(x) \n",
    "xmin, xmax = x.min(), x.max()\n",
    "print(\"Minimum and Maximum Values:\")\n",
    "print(xmin, xmax)"
   ]
  }
 ],
 "metadata": {
  "kernelspec": {
   "display_name": "Python 3 (ipykernel)",
   "language": "python",
   "name": "python3"
  },
  "language_info": {
   "codemirror_mode": {
    "name": "ipython",
    "version": 3
   },
   "file_extension": ".py",
   "mimetype": "text/x-python",
   "name": "python",
   "nbconvert_exporter": "python",
   "pygments_lexer": "ipython3",
   "version": "3.9.7"
  }
 },
 "nbformat": 4,
 "nbformat_minor": 5
}
